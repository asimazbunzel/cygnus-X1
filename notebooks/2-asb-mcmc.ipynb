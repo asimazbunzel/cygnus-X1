{
 "cells": [
  {
   "cell_type": "markdown",
   "id": "7fd3f9ba",
   "metadata": {},
   "source": [
    "# Cygnus X-1 - MCMC samples"
   ]
  },
  {
   "cell_type": "markdown",
   "id": "df973acd",
   "metadata": {},
   "source": [
    "In this notebook, we study the raw data of the MCMC sampler of a distribution asymmetric kick neccesary to reproduce current observational estimates of the well-known X-ray binary Cygnus X-1.\n",
    "\n",
    "This continues what has been shown in the jupyter notebook `1-asb-mcmc`"
   ]
  },
  {
   "cell_type": "code",
   "execution_count": null,
   "id": "14c2953a",
   "metadata": {},
   "outputs": [],
   "source": [
    "%load_ext autoreload\n",
    "%autoreload 2\n",
    "%config InlineBackend.figure_format = 'retina'"
   ]
  },
  {
   "cell_type": "markdown",
   "id": "b9675d54",
   "metadata": {},
   "source": [
    "---"
   ]
  },
  {
   "cell_type": "markdown",
   "id": "c7272aa8",
   "metadata": {},
   "source": [
    "## Import packages"
   ]
  },
  {
   "cell_type": "code",
   "execution_count": null,
   "id": "71172778",
   "metadata": {},
   "outputs": [],
   "source": [
    "from pathlib import Path\n",
    "from typing import Any, Union\n",
    "\n",
    "import corner\n",
    "import emcee\n",
    "import matplotlib.pyplot as plt\n",
    "import numpy as np\n",
    "import poskiorb\n",
    "import yaml\n",
    "\n",
    "plt.style.use(\"../config/style.mpl\")"
   ]
  },
  {
   "cell_type": "markdown",
   "id": "895c0f7e",
   "metadata": {},
   "source": [
    "## Useful functions"
   ]
  },
  {
   "cell_type": "code",
   "execution_count": null,
   "id": "55049d49",
   "metadata": {},
   "outputs": [],
   "source": [
    "def load_yaml(fname: Union[str, Path]) -> Any:\n",
    "    \"\"\"Load configuration file with YAML format\n",
    "\n",
    "    Parameters\n",
    "    ----------\n",
    "    fname : `str / Path`\n",
    "        YAML filename\n",
    "\n",
    "    Returns\n",
    "    -------\n",
    "    `yaml.load`\n",
    "    \"\"\"\n",
    "\n",
    "    if isinstance(fname, Path):\n",
    "        fname = str(fname)\n",
    "\n",
    "    with open(fname) as f:\n",
    "        return yaml.load(f, Loader=yaml.FullLoader)"
   ]
  },
  {
   "cell_type": "markdown",
   "id": "7405397d",
   "metadata": {},
   "source": [
    "## Load data"
   ]
  },
  {
   "cell_type": "code",
   "execution_count": null,
   "id": "ad2aaf2c",
   "metadata": {},
   "outputs": [],
   "source": [
    "CONFIG_FILENAME = \"../config/mcmc-config.yml\"\n",
    "config = load_yaml(fname=CONFIG_FILENAME)\n",
    "\n",
    "# set some constant values\n",
    "nwalkers = config[\"MCMC\"].get(\"walkers\")\n",
    "ndim = config[\"MCMC\"].get(\"dimension\")\n",
    "nburn = config[\"MCMC\"].get(\"burn\")\n",
    "nsteps = config[\"MCMC\"].get(\"steps\")\n",
    "raw_data = \"/workdir/cygnusx1/mcmc_corrected_angles.h5\"\n",
    "priorsD = config[\"MCMC\"].get(\"priorDistributions\")\n",
    "# Cygnus X-1 properties\n",
    "stellarParameters = config[\"StellarParameters\"]\n",
    "\n",
    "# load samples & remove burned steps\n",
    "reader = emcee.backends.HDFBackend(raw_data, read_only=True)\n",
    "samples = reader.get_chain()\n",
    "\n",
    "porb = samples[:,:,0].ravel()\n",
    "m1 = samples[:,:,1].ravel()\n",
    "m2 = samples[:,:,2].ravel()\n",
    "w = samples[:,:,3].ravel()\n",
    "theta = samples[:,:,4].ravel()\n",
    "phi = samples[:,:,5].ravel()"
   ]
  },
  {
   "cell_type": "markdown",
   "id": "c48af048",
   "metadata": {},
   "source": [
    "**Note**: need to correct angles to fit them into their boundaries !"
   ]
  },
  {
   "cell_type": "code",
   "execution_count": null,
   "id": "a82b70d2",
   "metadata": {},
   "outputs": [],
   "source": [
    "theta = theta % (2 * np.pi)\n",
    "theta = np.where(theta < 0, np.pi - (theta % np.pi), theta)\n",
    "theta = np.where(theta > np.pi, np.pi - (theta % np.pi), theta)\n",
    "\n",
    "phi = phi % (2 * np.pi)"
   ]
  },
  {
   "cell_type": "markdown",
   "id": "8968a8cf",
   "metadata": {},
   "source": [
    "---"
   ]
  },
  {
   "cell_type": "markdown",
   "id": "189b260c",
   "metadata": {},
   "source": [
    "## Results on stellar parameters at core-collapse"
   ]
  },
  {
   "cell_type": "code",
   "execution_count": null,
   "id": "bad0370a",
   "metadata": {},
   "outputs": [],
   "source": [
    "plt.style.use(\"../config/style.mpl\")\n",
    "\n",
    "fig, axes = plt.subplots(nrows=6, figsize=(10,7), sharex=True)\n",
    "\n",
    "indices = np.arange(len(porb))\n",
    "\n",
    "axes[0].plot(indices, porb, color=\"black\", alpha=0.75, lw=0.2)\n",
    "axes[1].plot(indices, m1, color=\"black\", alpha=0.75, lw=0.2)\n",
    "axes[2].plot(indices, m2, color=\"black\", alpha=0.75, lw=0.2)\n",
    "axes[3].plot(indices, w, color=\"black\", alpha=0.75, lw=0.2)\n",
    "axes[4].plot(indices, theta, color=\"black\", alpha=0.75, lw=0.2)\n",
    "axes[5].plot(indices, phi, color=\"black\", alpha=0.75, lw=0.2)\n",
    "\n",
    "axes[5].set_xlabel(\"step number\")\n",
    "axes[0].set_ylabel(\"$P_{\\\\rm orb}$\")\n",
    "axes[1].set_ylabel(\"$M_1$\")\n",
    "axes[2].set_ylabel(\"$M_2$\")\n",
    "axes[3].set_ylabel(\"$w$\")\n",
    "axes[4].set_ylabel(\"$\\\\theta$\")\n",
    "axes[5].set_ylabel(\"$\\\\phi$\")\n",
    "\n",
    "axes[0].set_xlim([0, len(porb)]);"
   ]
  }
 ],
 "metadata": {
  "kernelspec": {
   "display_name": "Python 3 (ipykernel)",
   "language": "python",
   "name": "python3"
  },
  "language_info": {
   "codemirror_mode": {
    "name": "ipython",
    "version": 3
   },
   "file_extension": ".py",
   "mimetype": "text/x-python",
   "name": "python",
   "nbconvert_exporter": "python",
   "pygments_lexer": "ipython3",
   "version": "3.10.10"
  }
 },
 "nbformat": 4,
 "nbformat_minor": 5
}
